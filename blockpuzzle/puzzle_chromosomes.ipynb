{
 "cells": [
  {
   "cell_type": "code",
   "execution_count": 1,
   "metadata": {},
   "outputs": [],
   "source": [
    "import puzzlerepresentation as P"
   ]
  },
  {
   "cell_type": "code",
   "execution_count": 2,
   "metadata": {},
   "outputs": [],
   "source": [
    "import numpy as np"
   ]
  },
  {
   "cell_type": "code",
   "execution_count": 3,
   "metadata": {},
   "outputs": [],
   "source": [
    "def buildRandomChromosome(hole=None):\n",
    "    C = np.random.randint(0, 7, size=(10,3))\n",
    "    C[:,-1] = np.random.randint(0,4, size=10)\n",
    "    if hole:\n",
    "        C[-1] = [hole[0], hole[1], 0]\n",
    "    return C"
   ]
  },
  {
   "cell_type": "code",
   "execution_count": 4,
   "metadata": {},
   "outputs": [],
   "source": [
    "pieces = P.pieces + [P.Piece('black',[[0,0]])]"
   ]
  },
  {
   "cell_type": "code",
   "execution_count": 18,
   "metadata": {},
   "outputs": [],
   "source": [
    "def score(C):\n",
    "    A = np.zeros([7,7],dtype=int)\n",
    "    #pieces = P.pieces + [P.Piece('black',[[0,0]])]\n",
    "    for i in range(10):\n",
    "        for unit in pieces[i].rotate(C[i,2]).unit_list:\n",
    "        for unit in pieces[i].rotate(C[i,2]).unit_list:\n",
    "            x = C[i][0] + unit[0]\n",
    "            y = C[i][1] + unit[1]\n",
    "            if (min(x,y) < 0) or (max(x,y) > 6):\n",
    "                return np.infty\n",
    "            A[x][y] += 1\n",
    "    print(np.abs(A-1).sum())\n",
    "    print(A)\n",
    "    return np.abs(A-1).sum()"
   ]
  },
  {
   "cell_type": "code",
   "execution_count": 19,
   "metadata": {},
   "outputs": [],
   "source": [
    "C_list = [buildRandomChromosome() for _ in range(1000)]"
   ]
  },
  {
   "cell_type": "code",
   "execution_count": 26,
   "metadata": {},
   "outputs": [
    {
     "name": "stdout",
     "output_type": "stream",
     "text": [
      "[[2, 0], [1, 0], [2, 1], [1, 1], [0, 1], [2, 2], [1, 2]]\n",
      "[[2, 2], [2, 1], [1, 1], [1, 0], [0, 0]]\n",
      "[[1, 2], [2, 2], [0, 1], [1, 1], [2, 1], [1, 0], [2, 0], [3, 0]]\n",
      "[[0, 0], [1, 0], [2, 0], [3, 0], [4, 0]]\n",
      "[[0, 0], [0, 1]]\n",
      "[[3, 0], [2, 1], [2, 0], [1, 1], [1, 0], [0, 0]]\n",
      "[[2, 0], [2, 1], [1, 1], [2, 2], [1, 2], [0, 2]]\n",
      "[[1, 1], [0, 2], [0, 1], [0, 0]]\n",
      "[[3, 0], [2, 0], [1, 0], [0, 0], [1, 1]]\n",
      "[[0, 0]]\n"
     ]
    }
   ],
   "source": [
    "for p in pieces:\n",
    "    print(p.unit_list)"
   ]
  },
  {
   "cell_type": "code",
   "execution_count": 25,
   "metadata": {},
   "outputs": [
    {
     "name": "stdout",
     "output_type": "stream",
     "text": [
      "32\n",
      "[[0 3 1 1 2 2 0]\n",
      " [1 2 1 0 1 0 1]\n",
      " [2 3 1 1 0 1 1]\n",
      " [0 3 2 1 2 1 1]\n",
      " [0 0 2 3 1 1 0]\n",
      " [0 0 1 1 2 1 1]\n",
      " [0 0 1 1 0 0 0]]\n",
      "44\n",
      "[[1 1 1 4 3 2 1]\n",
      " [0 1 2 2 4 3 2]\n",
      " [0 0 1 2 4 3 0]\n",
      " [0 0 0 2 1 1 0]\n",
      " [0 0 0 1 1 0 0]\n",
      " [0 0 1 2 1 1 0]\n",
      " [0 0 0 1 0 0 0]]\n",
      "36\n",
      "[[1 1 2 1 0 0 0]\n",
      " [0 3 2 1 0 0 0]\n",
      " [0 3 1 2 1 0 0]\n",
      " [1 2 1 2 1 0 0]\n",
      " [1 3 3 4 1 1 1]\n",
      " [1 1 2 2 1 0 0]\n",
      " [0 0 1 1 1 0 0]]\n"
     ]
    }
   ],
   "source": [
    "for C in C_list:\n",
    "    score(C)"
   ]
  },
  {
   "cell_type": "code",
   "execution_count": null,
   "metadata": {},
   "outputs": [],
   "source": []
  }
 ],
 "metadata": {
  "kernelspec": {
   "display_name": "Python 3",
   "language": "python",
   "name": "python3"
  },
  "language_info": {
   "codemirror_mode": {
    "name": "ipython",
    "version": 3
   },
   "file_extension": ".py",
   "mimetype": "text/x-python",
   "name": "python",
   "nbconvert_exporter": "python",
   "pygments_lexer": "ipython3",
   "version": "3.7.0"
  }
 },
 "nbformat": 4,
 "nbformat_minor": 2
}
