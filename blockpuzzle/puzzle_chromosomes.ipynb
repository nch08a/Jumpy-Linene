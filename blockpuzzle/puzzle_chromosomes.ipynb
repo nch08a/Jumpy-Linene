{
 "cells": [
  {
   "cell_type": "code",
   "execution_count": 1,
   "metadata": {},
   "outputs": [],
   "source": [
    "import puzzlerepresentation as P"
   ]
  },
  {
   "cell_type": "code",
   "execution_count": 2,
   "metadata": {},
   "outputs": [],
   "source": [
    "import numpy as np"
   ]
  },
  {
   "cell_type": "code",
   "execution_count": 3,
   "metadata": {},
   "outputs": [],
   "source": [
    "history = {}"
   ]
  },
  {
   "cell_type": "code",
   "execution_count": 4,
   "metadata": {},
   "outputs": [],
   "source": [
    "def addChromosomeToHistory(C):\n",
    "    history[C.tostring()] = -np.infty"
   ]
  },
  {
   "cell_type": "code",
   "execution_count": 5,
   "metadata": {},
   "outputs": [],
   "source": [
    "h = (6,0)\n",
    "null_C = np.zeros([10,3],dtype=np.int8)\n",
    "if h:\n",
    "    null_C[-1] = [h[0], h[1], 0]\n",
    "addChromosomeToHistory(null_C)"
   ]
  },
  {
   "cell_type": "code",
   "execution_count": 6,
   "metadata": {},
   "outputs": [],
   "source": [
    "def buildRandomChromosome(hole=None):\n",
    "    C = np.random.randint(0, 7, size=(10,3), dtype=np.int8)\n",
    "    C[:,-1] = np.random.randint(0,4, size=10, dtype=np.int8)\n",
    "    if hole:\n",
    "        C[-1] = [hole[0], hole[1], 0]\n",
    "    if C.tostring() in history:\n",
    "        return buildRandomChromosome(hole=hole)\n",
    "    addChromosomeToHistory(C)\n",
    "    return C"
   ]
  },
  {
   "cell_type": "raw",
   "metadata": {},
   "source": [
    "def buildRandomChromosome(hole=None):\n",
    "    C = np.random.randint(0, 7, size=(10,3), dtype=np.int8)\n",
    "    C[:,-1] = np.random.randint(0,4, size=10, dtype=np.int8)\n",
    "    if hole:\n",
    "        C[-1] = [hole[0], hole[1], 0]\n",
    "    addChromosomeToHistory(C, history)\n",
    "    return C"
   ]
  },
  {
   "cell_type": "code",
   "execution_count": 7,
   "metadata": {},
   "outputs": [],
   "source": [
    "h = (6,0)"
   ]
  },
  {
   "cell_type": "code",
   "execution_count": 8,
   "metadata": {},
   "outputs": [],
   "source": [
    "pieces = P.pieces + [P.Piece('black',[[0,0]])]"
   ]
  },
  {
   "cell_type": "code",
   "execution_count": 9,
   "metadata": {},
   "outputs": [],
   "source": [
    "def score(C):\n",
    "    A = np.zeros([7,7],dtype=np.int8)\n",
    "    #pieces = P.pieces + [P.Piece('black',[[0,0]])]\n",
    "    for i in range(10):\n",
    "        for unit in pieces[i].rot_list(C[i,2]):\n",
    "            x = C[i][0] + unit[0]\n",
    "            y = C[i][1] + unit[1]\n",
    "            if (min(x,y) < 0) or (max(x,y) > 6):\n",
    "                return np.infty\n",
    "            A[x][y] += 1\n",
    "    #print(np.abs(A-1).sum())\n",
    "    #print(A)\n",
    "    s = np.abs(np.square(A-1)).sum()\n",
    "    history[C.tostring()] = s\n",
    "    return s"
   ]
  },
  {
   "cell_type": "code",
   "execution_count": 10,
   "metadata": {},
   "outputs": [],
   "source": [
    "def rebuildChromosome(C, hole=None):\n",
    "    C = C.reshape(10,3)\n",
    "    \n",
    "    C[:,:-1] = C[:,:-1] % 7\n",
    "    C[:, -1] = C[:, -1] % 4\n",
    "    \n",
    "    return C"
   ]
  },
  {
   "cell_type": "code",
   "execution_count": 11,
   "metadata": {},
   "outputs": [],
   "source": [
    "def stepChromosomes(C, hole=None):\n",
    "    old_C = C.flatten()\n",
    "    C_list = []\n",
    "    iter_size = old_C.size\n",
    "    if hole:\n",
    "        iter_size -=3\n",
    "    for x in range(iter_size):\n",
    "        new_C_add = old_C.copy()\n",
    "        new_C_sub = old_C.copy()\n",
    "        \n",
    "        new_C_add[x] += 1\n",
    "        new_C_sub[x] -= 1\n",
    "        \n",
    "        new_C_add = rebuildChromosome(new_C_add).copy()\n",
    "        new_C_sub = rebuildChromosome(new_C_sub).copy()\n",
    "        \n",
    "        if new_C_add.tostring() not in history:\n",
    "            addChromosomeToHistory(new_C_add)\n",
    "            C_list.append(new_C_add.copy())\n",
    "        \n",
    "        if new_C_sub.tostring() not in history:\n",
    "            addChromosomeToHistory(new_C_sub)\n",
    "            C_list.append(new_C_sub.copy())\n",
    "        \n",
    "    return C_list"
   ]
  },
  {
   "cell_type": "code",
   "execution_count": 12,
   "metadata": {},
   "outputs": [],
   "source": [
    "C_list = [buildRandomChromosome(hole=h) for _ in range(10000)]"
   ]
  },
  {
   "cell_type": "code",
   "execution_count": 13,
   "metadata": {},
   "outputs": [],
   "source": [
    "best_C = null_C.copy()\n",
    "best_score = score(best_C)"
   ]
  },
  {
   "cell_type": "code",
   "execution_count": 14,
   "metadata": {},
   "outputs": [
    {
     "name": "stdout",
     "output_type": "stream",
     "text": [
      "28\n"
     ]
    }
   ],
   "source": [
    "for C in C_list:\n",
    "    s = score(C)\n",
    "    if s < best_score:\n",
    "        best_C = C.copy()\n",
    "        best_score = s\n",
    "print(best_score)"
   ]
  },
  {
   "cell_type": "code",
   "execution_count": 15,
   "metadata": {},
   "outputs": [],
   "source": [
    "def startSearch(hole=None):\n",
    "    C_list = [buildRandomChromosome(hole=hole) for _ in range(10000)]\n",
    "    best_C = null_C.copy()\n",
    "    best_score = score(best_C)\n",
    "    \n",
    "    for C in C_list:\n",
    "        s = score(C)\n",
    "        if s < best_score:\n",
    "            best_C = C.copy()\n",
    "            best_score = s\n",
    "    print(f'Search initialized with best score of: {best_score}')\n",
    "    return [best_C]"
   ]
  },
  {
   "cell_type": "code",
   "execution_count": 16,
   "metadata": {},
   "outputs": [],
   "source": [
    "best_C_list = [best_C]"
   ]
  },
  {
   "cell_type": "code",
   "execution_count": 17,
   "metadata": {},
   "outputs": [
    {
     "name": "stdout",
     "output_type": "stream",
     "text": [
      "20\n",
      "Finished iteration 0.  11504 board positions have been searched.\n",
      "14\n",
      "Finished iteration 1.  14244 board positions have been searched.\n",
      "12\n",
      "Finished iteration 2.  15638 board positions have been searched.\n",
      "Search initialized with best score of: 26\n",
      "No remaining paths to search.  Restarting from new random positions.\n",
      "inf\n",
      "Finished iteration 3.  25638 board positions have been searched.\n",
      "18\n",
      "Finished iteration 4.  27141 board positions have been searched.\n",
      "14\n",
      "Finished iteration 5.  29881 board positions have been searched.\n",
      "10\n",
      "Finished iteration 6.  31275 board positions have been searched.\n",
      "8\n",
      "Finished iteration 7.  32670 board positions have been searched.\n",
      "8\n",
      "Finished iteration 8.  34065 board positions have been searched.\n",
      "Search initialized with best score of: 22\n",
      "No remaining paths to search.  Restarting from new random positions.\n",
      "inf\n",
      "Finished iteration 9.  44065 board positions have been searched.\n",
      "16\n",
      "Finished iteration 10.  45568 board positions have been searched.\n",
      "14\n",
      "Finished iteration 11.  46964 board positions have been searched.\n",
      "Search initialized with best score of: 30\n",
      "No remaining paths to search.  Restarting from new random positions.\n",
      "inf\n",
      "Finished iteration 12.  56964 board positions have been searched.\n",
      "20\n",
      "Finished iteration 13.  58467 board positions have been searched.\n",
      "16\n",
      "Finished iteration 14.  61259 board positions have been searched.\n",
      "14\n",
      "Finished iteration 15.  62653 board positions have been searched.\n",
      "Search initialized with best score of: 32\n",
      "No remaining paths to search.  Restarting from new random positions.\n",
      "inf\n",
      "Finished iteration 16.  72653 board positions have been searched.\n",
      "20\n",
      "Finished iteration 17.  74156 board positions have been searched.\n",
      "14\n",
      "Finished iteration 18.  76947 board positions have been searched.\n",
      "10\n",
      "Finished iteration 19.  79735 board positions have been searched.\n"
     ]
    }
   ],
   "source": [
    "for i in range(20):\n",
    "    C_list = []\n",
    "    for C in best_C_list:\n",
    "        C_list = C_list + stepChromosomes(C, hole=h)\n",
    "    two_steps = []\n",
    "    for C in C_list:\n",
    "        two_steps = two_steps + stepChromosomes(C, hole=h)\n",
    "    C_list = C_list + two_steps\n",
    "    best_C_list = []\n",
    "    if len(C_list) == 0:\n",
    "        best_C_list = startSearch(hole=h)\n",
    "        best_score=np.infty\n",
    "        print('No remaining paths to search.  Restarting from new random positions.')\n",
    "    for C in C_list:\n",
    "        s = score(C)\n",
    "        if s < best_score:\n",
    "            best_C_list.append(C.copy())\n",
    "            best_score = s\n",
    "    print(best_score)\n",
    "    print(f'Finished iteration {i}.  {len(history)} board positions have been searched.')"
   ]
  },
  {
   "cell_type": "code",
   "execution_count": 18,
   "metadata": {},
   "outputs": [
    {
     "data": {
      "text/plain": [
       "79735"
      ]
     },
     "execution_count": 18,
     "metadata": {},
     "output_type": "execute_result"
    }
   ],
   "source": [
    "len(history)"
   ]
  },
  {
   "cell_type": "code",
   "execution_count": null,
   "metadata": {},
   "outputs": [],
   "source": []
  },
  {
   "cell_type": "raw",
   "metadata": {},
   "source": [
    "old_best = best_score\n",
    "stall = None\n",
    "\n",
    "best_C_list = [best_C]\n",
    "\n",
    "for i in range(100):\n",
    "    C_list = []\n",
    "    for C in best_C_list:\n",
    "        C_list = C_list + stepChromosomes(C, hole=h)\n",
    "    two_steps = []\n",
    "    for C in C_list:\n",
    "        two_steps = two_steps + stepChromosomes(C, hole=h)\n",
    "    C_list = C_list + two_steps\n",
    "    \n",
    "    best_C_list = []\n",
    "    for C in C_list:\n",
    "        s = score(C)\n",
    "        if s < best_score:\n",
    "            best_C_list.append(C.copy())\n",
    "            best_score = s\n",
    "    print(best_score)\n",
    "    if best_score == old_best:\n",
    "        if stall:\n",
    "            if stall > 10:\n",
    "                break\n",
    "            stall += 1\n",
    "        else:\n",
    "            stall = 1\n",
    "    else:\n",
    "        stall = None\n",
    "    old_best = best_score"
   ]
  },
  {
   "cell_type": "code",
   "execution_count": null,
   "metadata": {},
   "outputs": [],
   "source": []
  },
  {
   "cell_type": "code",
   "execution_count": null,
   "metadata": {},
   "outputs": [],
   "source": []
  },
  {
   "cell_type": "code",
   "execution_count": null,
   "metadata": {},
   "outputs": [],
   "source": []
  },
  {
   "cell_type": "raw",
   "metadata": {},
   "source": [
    "for i in range(10):\n",
    "    C_list = [buildRandomChromosome(hole=h) for _ in range(10000)]\n",
    "    \n",
    "    best_C = null_C.copy()\n",
    "    best_score = score(best_C)\n",
    "    \n",
    "    for C in C_list:\n",
    "        s = score(C)\n",
    "        if s < best_score:\n",
    "            best_C = C.copy()\n",
    "            best_score = s\n",
    "    print(best_score)\n",
    "    old_best = best_score\n",
    "    stall = None\n",
    "    \n",
    "    best_C_list = [best_C]\n",
    "    \n",
    "    for i in range(100):\n",
    "        C_list = []\n",
    "        for C in best_C_list:\n",
    "            C_list = C_list + stepChromosomes(C, hole=h)\n",
    "        two_steps = []\n",
    "        for C in C_list:\n",
    "            two_steps = two_steps + stepChromosomes(C, hole=h)\n",
    "        C_list = C_list + two_steps\n",
    "        \n",
    "        best_C_list = []\n",
    "        for C in C_list:\n",
    "            s = score(C)\n",
    "            if s < best_score:\n",
    "                best_C_list.append(C.copy())\n",
    "                best_score = s\n",
    "        print(best_score)\n",
    "        if best_score == old_best:\n",
    "            if stall:\n",
    "                if stall > 10:\n",
    "                    break\n",
    "                stall += 1\n",
    "            else:\n",
    "                stall = 1\n",
    "        else:\n",
    "            stall = None\n",
    "        old_best = best_score"
   ]
  },
  {
   "cell_type": "code",
   "execution_count": null,
   "metadata": {},
   "outputs": [],
   "source": []
  }
 ],
 "metadata": {
  "kernelspec": {
   "display_name": "Python 3",
   "language": "python",
   "name": "python3"
  },
  "language_info": {
   "codemirror_mode": {
    "name": "ipython",
    "version": 3
   },
   "file_extension": ".py",
   "mimetype": "text/x-python",
   "name": "python",
   "nbconvert_exporter": "python",
   "pygments_lexer": "ipython3",
   "version": "3.7.0"
  }
 },
 "nbformat": 4,
 "nbformat_minor": 2
}
